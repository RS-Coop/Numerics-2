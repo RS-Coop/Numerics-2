{
 "cells": [
  {
   "cell_type": "code",
   "execution_count": 1,
   "id": "framed-purchase",
   "metadata": {},
   "outputs": [],
   "source": [
    "import numpy as np\n",
    "import scipy.special as sps\n",
    "import matplotlib.pyplot as plt\n",
    "import seaborn as sns\n",
    "sns.set()"
   ]
  },
  {
   "cell_type": "markdown",
   "id": "listed-commonwealth",
   "metadata": {},
   "source": [
    "# Problem 1"
   ]
  },
  {
   "cell_type": "markdown",
   "id": "innocent-shield",
   "metadata": {},
   "source": [
    "We implement the Trapezoidal rule for numerically solving ODEs, and we increase its accuracy by implementing and applying Repeated Richardson Extraplolation. We then apply our methods to a specific example and examine the results.\n",
    "\n",
    "We begin by defining a function below that will convert a higher-order linear ODE into a linear system of first-order ODEs."
   ]
  },
  {
   "cell_type": "code",
   "execution_count": 4,
   "id": "accompanied-bubble",
   "metadata": {},
   "outputs": [],
   "source": [
    "'''\n",
    "convertToSys converts a higher order ODE into a system of first \n",
    "order equations.\n",
    "\n",
    "NOTE: One can generalize this to coupled sets of equations, but this\n",
    "is not currently implemented\n",
    "\n",
    "NOTE: We assume the form is y^(k) + f(t, y^(k-1), ..., y) = F(t)\n",
    "\n",
    "Input:\n",
    "    Y -> Function of t where element i is g(t)*y^(i) for some g\n",
    "    F -> RHS of system\n",
    "    order -> Order of the system\n",
    "Output:\n",
    "    func -> RHS of vector equation y'=f(t,y)\n",
    "'''\n",
    "def convertToSys(Y, F, order):\n",
    "    def A(t):\n",
    "        A = np.diag(np.ones(order-1), 1)\n",
    "        A[order-1, :] = -Y(t)\n",
    "        \n",
    "        return A\n",
    "        \n",
    "    def b(t):\n",
    "        b = np.zeros(order)\n",
    "        b[order-1] = F(t)\n",
    "        \n",
    "        return b\n",
    "        \n",
    "    return (A, b)"
   ]
  },
  {
   "cell_type": "markdown",
   "id": "theoretical-savannah",
   "metadata": {},
   "source": [
    "Next, we define a function to solve the system of equations that is implicit in the Trapezoidal method."
   ]
  },
  {
   "cell_type": "code",
   "execution_count": 5,
   "id": "sublime-louis",
   "metadata": {},
   "outputs": [],
   "source": [
    "'''\n",
    "impSolve will solve the system of equations required in a implicit\n",
    "Trapezoidal ODE solver assuming a linear system of ODEs.\n",
    "\n",
    "NOTE: We assume the form is A(t)*y + b(t) = f(t,y) = y'(t)\n",
    "\n",
    "Input:\n",
    "    A(t) -> See above\n",
    "    b(t) -> See above\n",
    "    y0 -> Past point\n",
    "    t0 -> Past time point\n",
    "    t1 -> Future time point\n",
    "Output:\n",
    "    y -> Next point\n",
    "'''\n",
    "def impSolve(A, b, y0, t0, t1):\n",
    "    h = t1-t0\n",
    "    \n",
    "    LHS = np.eye(y0.shape[0]) - (h/2)*A(t1)\n",
    "    RHS = y0 + h*((1/2)*A(t0)@y0 + b(t0) + b(t1))\n",
    "    \n",
    "    return np.linalg.solve(LHS, RHS)"
   ]
  },
  {
   "cell_type": "markdown",
   "id": "random-regulation",
   "metadata": {},
   "source": [
    "Finally, we define our Trapezoidal method which takes in a linear system of first-order ODEs, an initial condition, a solution interval, a stepsize, and computes the solution."
   ]
  },
  {
   "cell_type": "code",
   "execution_count": 45,
   "id": "minor-metropolitan",
   "metadata": {},
   "outputs": [],
   "source": [
    "'''\n",
    "odeTrap implements the Trapezoidal rule for solving first order\n",
    "initial value ODE systems.\n",
    "\n",
    "NOTE: Assumes vector input (i.e. >=1 dimensional system)\n",
    "NOTE: Assumes linear system but not necessarily homogenous\n",
    "\n",
    "Input:\n",
    "    f -> RHS of the ODE. Either f(t,y) = A(t)*y + b(t) or f such that\n",
    "        y_n+1 = f(t_n, y_n) (i.e. no longer implicit)\n",
    "    y0 -> Initial condition\n",
    "    interval -> Solution interval, [t0, T]\n",
    "    h -> Stepsize (optional)\n",
    "    last -> Return solution sequence or last iterate\n",
    "Output:\n",
    "    y -> Computed solution on interval\n",
    "'''\n",
    "def odeTrap(f, y0, interval, h=1e-2, last=False):\n",
    "    if callable(f):\n",
    "        future = lambda x : f(x[0], x[1], x[2])\n",
    "    else:\n",
    "        future = lambda x : impSolve(f[0], f[1], x[0], x[1], x[2])\n",
    "        \n",
    "    t = np.arange(interval[0], interval[1]+h, h)\n",
    "    pts = len(t)\n",
    "    \n",
    "    y = np.zeros((y0.shape[0], pts))\n",
    "    y[:,0] = y0\n",
    "    \n",
    "    for i in range(1, pts):\n",
    "        y[:,i] = future((y[:,i-1], t[i-1], t[i]))\n",
    "      \n",
    "    if last:\n",
    "        return y[0,-1]\n",
    "    else:\n",
    "        return y"
   ]
  },
  {
   "cell_type": "markdown",
   "id": "organic-glory",
   "metadata": {},
   "source": [
    "We would like to test that our methods defined above are valid, so we consider the following cannonical test problem:\n",
    "\n",
    "$$ y'(t)=\\lambda y(t),\\:y(0)=y_0 $$\n",
    "\n",
    "Which has the solution $y(t)=y_0e^{\\lambda t}$. We define this below, (trivially) convert it to a system, and then solve it with our Trapezoidal method."
   ]
  },
  {
   "cell_type": "code",
   "execution_count": 46,
   "id": "simplified-somewhere",
   "metadata": {},
   "outputs": [],
   "source": [
    "a = 1\n",
    "y0 = np.array([1])\n",
    "\n",
    "test_Y = lambda t : np.array([-a])\n",
    "test_F = lambda t: 0\n",
    "\n",
    "f = convertToSys(test_Y, test_F, 1)\n",
    "\n",
    "h = 1e-1\n",
    "t = np.arange(0, 2+h, h)\n",
    "y = odeTrap(f, y0, [0,2], h=h)"
   ]
  },
  {
   "cell_type": "code",
   "execution_count": 47,
   "id": "relevant-orleans",
   "metadata": {},
   "outputs": [
    {
     "name": "stdout",
     "output_type": "stream",
     "text": [
      "Total Error: 0.023543470568709382\n"
     ]
    },
    {
     "data": {
      "image/png": "[encoded data removed]",
      "text/plain": [
       "<Figure size 720x576 with 1 Axes>"
      ]
     },
     "metadata": {},
     "output_type": "display_data"
    }
   ],
   "source": [
    "fig, ax = plt.subplots(1,1,figsize=(10,8))\n",
    "ax.plot(t, y[0,:])\n",
    "ax.plot(t, np.exp(a*t))\n",
    "ax.legend(['Numerical', 'Analytic']);\n",
    "print('Total Error: {}'.format(np.linalg.norm(np.exp(a*t)-y[0,:])))"
   ]
  },
  {
   "cell_type": "markdown",
   "id": "supreme-international",
   "metadata": {},
   "source": [
    "Great! The numerically solution is barely even visible as it is covered by the analytic solution, but it is there. We see that our error is $\\mathcal{O}(10^{-2})$ which is expected for a second-order method with stepsize $0.1$, so everything is working well."
   ]
  },
  {
   "cell_type": "markdown",
   "id": "massive-precipitation",
   "metadata": {},
   "source": [
    "Lastly, we implement the Repeated Richardson Extrapolation for an arbitrary approximation method. In this case that will be our Trapezoidal method."
   ]
  },
  {
   "cell_type": "code",
   "execution_count": 48,
   "id": "weird-costs",
   "metadata": {},
   "outputs": [],
   "source": [
    "'''\n",
    "extraRich implements Repeated Richardson Extrapolation to improve\n",
    "the accuracy of a given approximation method.\n",
    "\n",
    "Input:\n",
    "    F -> Approximation method\n",
    "    kw -> Keyword arguments for F\n",
    "    h0 -> Initial stepsize\n",
    "    q -> Change in step (e.g h/q)\n",
    "    p -> Form of the order (e.g. p_k = 2k)\n",
    "    maxitr -> Maximum number of iterations\n",
    "    tol -> Requested precision\n",
    "'''\n",
    "def extraRich(F, kw, h0, q, p, maxitr=20, tol=1e-6):\n",
    "    A = np.zeros((maxitr, maxitr))\n",
    "    \n",
    "    A[0,0] = F(**kw, h=h0)\n",
    "    \n",
    "    for m in range(1, maxitr):\n",
    "        A[m,0] = F(**kw, h=h0*(q**-m))\n",
    "        \n",
    "        for k in range(1, m+1):\n",
    "            A[m,k] = A[m, k-1]+(A[m,k-1]-A[m-1,k-1])/(q**(p*k) - 1)\n",
    "                \n",
    "            if k<m and np.abs(A[m,k]-A[m-1,k])<tol:\n",
    "                return A[m, k]+(A[m,k]-A[m-1,k])/(q**(p*(k+1)) - 1)\n",
    "    \n",
    "    print('Tolerance was not achieved.')\n",
    "    \n",
    "    return A[m,k]"
   ]
  },
  {
   "cell_type": "markdown",
   "id": "provincial-ministry",
   "metadata": {},
   "source": [
    "Let's test the our Repeated Richardson on the same test problem we considered earlier. We note that for the Trapezoidal method we want $q,p=2$."
   ]
  },
  {
   "cell_type": "code",
   "execution_count": 49,
   "id": "diverse-glenn",
   "metadata": {},
   "outputs": [],
   "source": [
    "h0 = 1\n",
    "kw = {'f':f, 'y0':y0, 'interval':[0,2], 'last':True}\n",
    "\n",
    "y = extraRich(odeTrap, kw, h0, 2, 2)"
   ]
  },
  {
   "cell_type": "code",
   "execution_count": 50,
   "id": "complimentary-adventure",
   "metadata": {},
   "outputs": [
    {
     "name": "stdout",
     "output_type": "stream",
     "text": [
      "[6.47419895e-11]\n"
     ]
    }
   ],
   "source": [
    "print(np.abs(y - y0*np.exp(a*2)))"
   ]
  },
  {
   "cell_type": "markdown",
   "id": "comparable-furniture",
   "metadata": {},
   "source": [
    "Yeah, it seems to be working as expected on the test problem."
   ]
  },
  {
   "cell_type": "markdown",
   "id": "suitable-mason",
   "metadata": {},
   "source": [
    "Having implemented the necessary functionality we now consider the following second order ODE on $[0,3\\pi]$:\n",
    "\n",
    "$$ t^2y''+ty'+(t^2-1)y=0 $$\n",
    "\n",
    "With initial conditions $y(0)=0,\\:y'(0)=1/2 $"
   ]
  },
  {
   "cell_type": "markdown",
   "id": "compliant-paris",
   "metadata": {},
   "source": [
    "We can see that we will have some problems at $t=0$, so we will make the change of variables $y(t)=tu(t)$. Doing this results in the following new ODE.\n",
    "\n",
    "$$ u''+\\frac{3u'}{t}+u=0 $$\n",
    "\n",
    "We note that $u(0)=\\frac{1}{2}$ and $u'(0)=0$, with the former following directly from the Taylor expansion below:\n",
    "\n",
    "$$ y(t) = y(0) + ty'(0) + \\frac{t^2}{2}y''(0) + \\cdots = 0 + \\frac{t}{2} + \\frac{t^2}{2}y''(0) + \\cdots $$\n",
    "\n",
    "The second condition requires a bit more examination, but it is easy to show by first finding that $y''(0)=0$. We note that using this change of variables we still have a problem at $t=0$, but now we are able to evaluate $\\frac{u'(t)}{t}|_{t=0}$.\n",
    "\n",
    "$$ \\lim_{t\\to0}\\frac{u'(t)}{t}=u''(0)=-\\frac{1}{8} $$"
   ]
  },
  {
   "cell_type": "markdown",
   "id": "grand-symposium",
   "metadata": {},
   "source": [
    "We then numerically define our system below and apply our solution method."
   ]
  },
  {
   "cell_type": "code",
   "execution_count": 54,
   "id": "several-amplifier",
   "metadata": {},
   "outputs": [],
   "source": [
    "def U(t): \n",
    "    if t==0: return np.array([1, -1/8]) \n",
    "    else: return np.array([1, 3/t])\n",
    "        \n",
    "F = lambda t : 0\n",
    "\n",
    "f = convertToSys(U, F, 2)"
   ]
  },
  {
   "cell_type": "markdown",
   "id": "canadian-eleven",
   "metadata": {},
   "source": [
    "To analyze our solution we will compare it to the exact analytic solution which is the Bessel function of the first kind of order 1 ($J_1(t)$)."
   ]
  },
  {
   "cell_type": "code",
   "execution_count": 55,
   "id": "occupational-diving",
   "metadata": {},
   "outputs": [],
   "source": [
    "h = 1e-2\n",
    "t = np.arange(0, 3*np.pi+h, h)\n",
    "u0 = np.array([1/2, 0])\n",
    "\n",
    "u = odeTrap(f, u0, [0, 3*np.pi], h=h)\n",
    "J = sps.jv(1, t)"
   ]
  },
  {
   "cell_type": "code",
   "execution_count": 56,
   "id": "finished-liberia",
   "metadata": {},
   "outputs": [
    {
     "data": {
      "image/png": "[encoded data removed]",
      "text/plain": [
       "<Figure size 720x576 with 1 Axes>"
      ]
     },
     "metadata": {},
     "output_type": "display_data"
    }
   ],
   "source": [
    "fig, ax = plt.subplots(1,1,figsize=(10,8))\n",
    "ax.plot(t, u[0,:]*t)\n",
    "ax.plot(t, J)\n",
    "\n",
    "ax.set_title('Numerical vs. Analytic Solution')\n",
    "ax.set_xlabel('Evolution (t)')\n",
    "ax.set_ylabel('Solution (y)')\n",
    "ax.legend(['Numerical', 'Analytic']);"
   ]
  },
  {
   "cell_type": "markdown",
   "id": "arranged-saskatchewan",
   "metadata": {},
   "source": [
    "Looks like everything went well. We will also consider computing the value $y(3\\pi)$ using Repeated Richardson."
   ]
  },
  {
   "cell_type": "code",
   "execution_count": 94,
   "id": "direct-timber",
   "metadata": {},
   "outputs": [],
   "source": [
    "h0 = 1\n",
    "kw = {'f':f, 'y0':u0, 'interval':[0,3*np.pi], 'last':True}\n",
    "\n",
    "u = extraRich(odeTrap, kw, h0, 2, 2, tol=1e-10)"
   ]
  },
  {
   "cell_type": "code",
   "execution_count": 95,
   "id": "authentic-inclusion",
   "metadata": {},
   "outputs": [
    {
     "name": "stdout",
     "output_type": "stream",
     "text": [
      "5.8455405465007715e-06\n"
     ]
    }
   ],
   "source": [
    "print(np.abs(3*np.pi*u-sps.jv(1, 3*np.pi)))"
   ]
  },
  {
   "cell_type": "markdown",
   "id": "cordless-vault",
   "metadata": {},
   "source": [
    "Not quite 10 significant digits, but hey..."
   ]
  }
 ],
 "metadata": {
  "kernelspec": {
   "display_name": "Python 3",
   "language": "python",
   "name": "python3"
  },
  "language_info": {
   "codemirror_mode": {
    "name": "ipython",
    "version": 3
   },
   "file_extension": ".py",
   "mimetype": "text/x-python",
   "name": "python",
   "nbconvert_exporter": "python",
   "pygments_lexer": "ipython3",
   "version": "3.7.9"
  }
 },
 "nbformat": 4,
 "nbformat_minor": 5
}
