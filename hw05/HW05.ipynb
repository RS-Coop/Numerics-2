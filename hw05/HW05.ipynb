{
 "cells": [
  {
   "cell_type": "code",
   "execution_count": 2,
   "id": "normal-bones",
   "metadata": {},
   "outputs": [],
   "source": [
    "#Importing packages\n",
    "import numpy as np\n",
    "import sympy as sp\n",
    "import matplotlib.pyplot as plt\n",
    "import seaborn as sns"
   ]
  },
  {
   "cell_type": "markdown",
   "id": "impossible-species",
   "metadata": {},
   "source": [
    "## Problem 1 (Continued)"
   ]
  },
  {
   "cell_type": "markdown",
   "id": "bridal-dealing",
   "metadata": {},
   "source": [
    "Next, we consider the following symmetric positive definite matrix:\n",
    "\n",
    "$$\n",
    "\\mathbf{A}=\n",
    "\\begin{bmatrix}\n",
    "a&b\\\\\n",
    "b&c\n",
    "\\end{bmatrix}\n",
    "$$\n",
    "\n",
    "where we assume $a\\geq c$ and the eigenvalues are $\\lambda_1\\geq\\lambda_2>0$. We want to show that the iteration $\\{\\mathbf{A}_k\\}$ converges to diag($\\lambda_1,\\lambda_2$)."
   ]
  },
  {
   "cell_type": "markdown",
   "id": "australian-parts",
   "metadata": {},
   "source": [
    "We have shown earlier that the iterates $\\mathbf{A}_k$ are similar to the original matrix $\\mathbf{A}$. Thus we can conclude that if the iteration converges to a diagonal matrix, the values on the diagonal must be $\\lambda_1$ and $\\lambda_2$. From here we need to show two things: that the off diagonal elements will go to zero, and the diagonal elements will remain ordered by size."
   ]
  },
  {
   "cell_type": "markdown",
   "id": "liked-kidney",
   "metadata": {},
   "source": [
    "We would like to be able to say a little more about the elements in $\\mathbf{A}$ to simplify our cholesky decomposition. For example, we know that $a$, $b$, and $c$ are all real, but how can we relate them? Let us look at $\\mathbf{e}_1^T\\mathbf{Ae}_1$ and $\\mathbf{e}_2^T\\mathbf{Ae}_2$, where $\\mathbf{e}_i$ is the standard unit vector. Because our matrix is assumed positive definite we can see that this implies $0<a,c$."
   ]
  },
  {
   "cell_type": "markdown",
   "id": "inappropriate-creek",
   "metadata": {},
   "source": [
    "Now we consider the result ($\\mathbf{A}_1$) of a single Cholesky iteration which we have computed below using *sympy* -- a Python library for symbolic math computations. We have included the results above to get a rather nice simplification."
   ]
  },
  {
   "cell_type": "code",
   "execution_count": 3,
   "id": "impressive-junior",
   "metadata": {},
   "outputs": [],
   "source": [
    "#Define our symbolic variables and our matrix\n",
    "a, c = sp.symbols('a c', real=True, positive=True)\n",
    "b = sp.symbols('b', real=True)\n",
    "A = sp.Matrix([[a, b], [b, c]])"
   ]
  },
  {
   "cell_type": "code",
   "execution_count": 4,
   "id": "unauthorized-norwegian",
   "metadata": {},
   "outputs": [
    {
     "name": "stdout",
     "output_type": "stream",
     "text": [
      "⎡                      __________⎤\n",
      "⎢         2           ╱        2 ⎥\n",
      "⎢        b        b⋅╲╱  a⋅c - b  ⎥\n",
      "⎢    a + ──       ───────────────⎥\n",
      "⎢        a               a       ⎥\n",
      "⎢                                ⎥\n",
      "⎢     __________                 ⎥\n",
      "⎢    ╱        2            2     ⎥\n",
      "⎢b⋅╲╱  a⋅c - b            b      ⎥\n",
      "⎢───────────────      c - ──     ⎥\n",
      "⎣       a                 a      ⎦\n"
     ]
    }
   ],
   "source": [
    "#Compute the first Cholesky iterate\n",
    "G = A.cholesky()\n",
    "\n",
    "A1 = G.T*G\n",
    "sp.pprint(sp.simplify(A1))"
   ]
  },
  {
   "cell_type": "markdown",
   "id": "altered-spokesman",
   "metadata": {},
   "source": [
    "First, it is clear that the diagonal ordering is maintained as we are adding something positive to $a$ and subtracting something positive from $c$.\n",
    "\n",
    "For the off diagonal elements we would like to be able to say the following:\n",
    "\n",
    "$$ b>\\frac{b\\sqrt{ac-b^2}}{a} $$\n",
    "\n",
    "Which simplifies to $a^2>ac-b^2$."
   ]
  },
  {
   "cell_type": "markdown",
   "id": "sustainable-region",
   "metadata": {},
   "source": [
    "Note that the term on the right hand side is the determinant of the original matrix. This value is positive because the matrix is positive definite (i.e. $\\det(\\mathbf{A})=ac-b^2>0$). In any case we can see that $a\\geq c\\implies a^2\\geq ac\\implies a^2>ac-b^2$.\n",
    "\n",
    "So the off diagonal entries are getting smaller and ordering on the diagonal is maintained. We can apply the same reasoning outlined above to subsequent iterations and obtain the same result. Thus we can  conclude that $\\mathbf{A}_k\\to\\text{diag}(\\lambda_1,\\lambda_2)$ as $k\\to\\infty$."
   ]
  },
  {
   "cell_type": "markdown",
   "id": "based-alloy",
   "metadata": {},
   "source": [
    "## Problem 2"
   ]
  },
  {
   "cell_type": "markdown",
   "id": "working-pitch",
   "metadata": {},
   "source": [
    "We want to compute a single QR step of the following matrix:\n",
    "\n",
    "$$\n",
    "\\begin{bmatrix}\n",
    "2 &\\epsilon \\\\\n",
    "\\epsilon &1\n",
    "\\end{bmatrix}\n",
    "$$\n",
    "\n",
    "which we will do with and without a shift of $\\mu=1$ and compare the results. To do this we will again employ *sympy* and its symbolic computations. We begin by defining our matrix below."
   ]
  },
  {
   "cell_type": "code",
   "execution_count": 5,
   "id": "solar-railway",
   "metadata": {},
   "outputs": [
    {
     "name": "stdout",
     "output_type": "stream",
     "text": [
      "⎡2  e⎤\n",
      "⎢    ⎥\n",
      "⎣e  1⎦\n"
     ]
    }
   ],
   "source": [
    "#Defining symbols and matrix (e is epsilon)\n",
    "e = sp.symbols('e', real=True, positive=True)\n",
    "A = sp.Matrix([[2, e],[e, 1]])\n",
    "\n",
    "sp.pprint(A)"
   ]
  },
  {
   "cell_type": "markdown",
   "id": "adjacent-startup",
   "metadata": {},
   "source": [
    "### a).\n",
    "First, we examine standard QR iteration without a shift. Below we compute a single step of this iteration and print the result."
   ]
  },
  {
   "cell_type": "code",
   "execution_count": 6,
   "id": "chicken-spelling",
   "metadata": {},
   "outputs": [],
   "source": [
    "#Compute a step of unshifted QR\n",
    "Q, R = A.QRdecomposition()\n",
    "\n",
    "A11 = sp.simplify(R*Q)"
   ]
  },
  {
   "cell_type": "code",
   "execution_count": 7,
   "id": "cellular-simon",
   "metadata": {},
   "outputs": [
    {
     "name": "stdout",
     "output_type": "stream",
     "text": [
      "⎡    2         │ 2    │⎤\n",
      "⎢ 5⋅e  + 8   e⋅│e  - 2│⎥\n",
      "⎢ ────────   ──────────⎥\n",
      "⎢   2           2      ⎥\n",
      "⎢  e  + 4      e  + 4  ⎥\n",
      "⎢                      ⎥\n",
      "⎢  │ 2    │    ⎛     2⎞⎥\n",
      "⎢e⋅│e  - 2│  2⋅⎝2 - e ⎠⎥\n",
      "⎢──────────  ──────────⎥\n",
      "⎢   2           2      ⎥\n",
      "⎣  e  + 4      e  + 4  ⎦\n"
     ]
    }
   ],
   "source": [
    "sp.pprint(A11)"
   ]
  },
  {
   "cell_type": "markdown",
   "id": "operating-scout",
   "metadata": {},
   "source": [
    "In the output above we can see that the off-diagonal entries are $\\mathcal{O}(\\epsilon)$. This follows beacause we are assuming $\\epsilon$ is small, so the terms $\\epsilon^2+4$ and $\\epsilon^2-2$ are order 1 -- making the whole off diagonal term order $\\epsilon$."
   ]
  },
  {
   "cell_type": "markdown",
   "id": "digital-hundred",
   "metadata": {},
   "source": [
    "### b).\n",
    "Next, we examine QR iteration with a shift of $\\mu=1$. Below is the output of a single step of this shifted iteration."
   ]
  },
  {
   "cell_type": "code",
   "execution_count": 8,
   "id": "thirty-flexibility",
   "metadata": {},
   "outputs": [],
   "source": [
    "mu = 1\n",
    "I = sp.eye(2)\n",
    "\n",
    "Q, R = (A-mu*I).QRdecomposition()\n",
    "\n",
    "A12 = sp.simplify(R*Q+mu*I)"
   ]
  },
  {
   "cell_type": "code",
   "execution_count": 9,
   "id": "joined-kansas",
   "metadata": {},
   "outputs": [
    {
     "name": "stdout",
     "output_type": "stream",
     "text": [
      "⎡   2         3  ⎤\n",
      "⎢3⋅e  + 2    e   ⎥\n",
      "⎢────────  ──────⎥\n",
      "⎢  2        2    ⎥\n",
      "⎢ e  + 1   e  + 1⎥\n",
      "⎢                ⎥\n",
      "⎢    3           ⎥\n",
      "⎢   e        1   ⎥\n",
      "⎢ ──────   ──────⎥\n",
      "⎢  2        2    ⎥\n",
      "⎣ e  + 1   e  + 1⎦\n"
     ]
    }
   ],
   "source": [
    "sp.pprint(A12)"
   ]
  },
  {
   "cell_type": "markdown",
   "id": "improving-merit",
   "metadata": {},
   "source": [
    "In this case we see that the off diagonal entries are $\\mathcal{O}(\\epsilon^3)$. Again $\\epsilon$ is small, so the denominator $\\epsilon^2+1$ is order 1 making the whole term order $\\epsilon^3$.\n",
    "\n",
    "In this QR iteration scheme we are looking for the off diagonal entries to decay towards zero. Thus we can conclude that the shifted version of the algorithm is much better as the off diagonal terms will decay faster. Overall this results in a faster algorithm which is quite advantageous."
   ]
  },
  {
   "cell_type": "markdown",
   "id": "compact-netherlands",
   "metadata": {},
   "source": [
    "## Problem 3"
   ]
  },
  {
   "cell_type": "markdown",
   "id": "fewer-harassment",
   "metadata": {},
   "source": [
    "We will implement a numerical QR iteration algorithm for symmetric tri-diagonal matrices. Then we will examine its performance on a test example. Below we define our algorithm which uses the standard approach and stops when the diagonal entries stop changing. "
   ]
  },
  {
   "cell_type": "code",
   "execution_count": 100,
   "id": "shaped-fifth",
   "metadata": {},
   "outputs": [],
   "source": [
    "'''\n",
    "Computes the eigenvalues of an input matrix using QR iteration\n",
    "\n",
    "Input:\n",
    "    A -> Symmetric tri-diagonal matrix\n",
    "    tol -> Stopping tolerance (optional)\n",
    "    max_itr -> Maximum iterations (optional)\n",
    "Output:\n",
    "    Diagonal entries of final iterate\n",
    "'''\n",
    "def QRIter(A, tol=1e-7, max_itr=1000):\n",
    "    d0 = A.diagonal()\n",
    "    \n",
    "    for i in range(max_itr):\n",
    "        Q, R = np.linalg.qr(A)\n",
    "        A = R@Q\n",
    "        \n",
    "        #Stopping criteria here\n",
    "        d1 = A.diagonal()\n",
    "        if np.linalg.norm(d1-d0)/np.linalg.norm(d0) < tol:\n",
    "            return d1\n",
    "        \n",
    "        d0 = d1\n",
    "        \n",
    "    raise ValueError('Maximum iterations exceeded without \\\n",
    "                     achieving requested tolerance.')"
   ]
  },
  {
   "cell_type": "markdown",
   "id": "perfect-fancy",
   "metadata": {},
   "source": [
    "Next we define as symmetric tridiagonal 100X100 matrix of random integers between 0 and 10."
   ]
  },
  {
   "cell_type": "code",
   "execution_count": 101,
   "id": "academic-convergence",
   "metadata": {},
   "outputs": [
    {
     "name": "stdout",
     "output_type": "stream",
     "text": [
      "[[0 2 0 ... 0 0 0]\n",
      " [2 6 6 ... 0 0 0]\n",
      " [0 6 8 ... 0 0 0]\n",
      " ...\n",
      " [0 0 0 ... 3 6 0]\n",
      " [0 0 0 ... 6 4 0]\n",
      " [0 0 0 ... 0 0 6]]\n"
     ]
    }
   ],
   "source": [
    "N = 100\n",
    "\n",
    "rng = np.random.default_rng(57)\n",
    "\n",
    "d0 = np.diag(rng.integers(low=0, high=10, size=N))\n",
    "d1 = np.diag(rng.integers(low=0, high=10, size=N-1), k=1)\n",
    "\n",
    "A = d0+d1+d1.T\n",
    "print(A)"
   ]
  },
  {
   "cell_type": "markdown",
   "id": "increased-conservation",
   "metadata": {},
   "source": [
    "First we calculate the eigenvalues using numpy."
   ]
  },
  {
   "cell_type": "code",
   "execution_count": 102,
   "id": "mobile-intensity",
   "metadata": {},
   "outputs": [],
   "source": [
    "evals_np = np.sort(np.linalg.eigvals(A))"
   ]
  },
  {
   "cell_type": "markdown",
   "id": "bulgarian-metropolitan",
   "metadata": {},
   "source": [
    "Then we calculate the eigenvalues using our QR iteration scheme."
   ]
  },
  {
   "cell_type": "code",
   "execution_count": 103,
   "id": "delayed-bristol",
   "metadata": {},
   "outputs": [],
   "source": [
    "evals = np.sort(QRIter(A))"
   ]
  },
  {
   "cell_type": "markdown",
   "id": "looking-speed",
   "metadata": {},
   "source": [
    "Finally, we can compare the results by using the norm of the difference."
   ]
  },
  {
   "cell_type": "code",
   "execution_count": 104,
   "id": "confused-choir",
   "metadata": {},
   "outputs": [
    {
     "data": {
      "text/plain": [
       "0.0006443422089774686"
      ]
     },
     "execution_count": 104,
     "metadata": {},
     "output_type": "execute_result"
    }
   ],
   "source": [
    "np.linalg.norm(evals-evals_np)"
   ]
  },
  {
   "cell_type": "markdown",
   "id": "emotional-faith",
   "metadata": {},
   "source": [
    "We see there is some error, but the results are certainly close. Below we can see a few randomly chosen eigenvalues from both results."
   ]
  },
  {
   "cell_type": "code",
   "execution_count": 111,
   "id": "marine-value",
   "metadata": {},
   "outputs": [
    {
     "name": "stdout",
     "output_type": "stream",
     "text": [
      "Numpy: [ 9.89386946 -3.51622851  1.43339424 11.54093146]\n",
      "\n",
      "QR Iteration: [ 9.89386944 -3.51622851  1.43339424 11.54093146]\n"
     ]
    }
   ],
   "source": [
    "ind = rng.integers(low=0, high=99, size=4)\n",
    "\n",
    "print('Numpy: {}\\n'.format(evals_np[ind]))\n",
    "print('QR Iteration: {}'.format(evals[ind]))"
   ]
  },
  {
   "cell_type": "markdown",
   "id": "sustained-remove",
   "metadata": {},
   "source": [
    "There is some variation but our method performs well."
   ]
  }
 ],
 "metadata": {
  "kernelspec": {
   "display_name": "Python 3",
   "language": "python",
   "name": "python3"
  },
  "language_info": {
   "codemirror_mode": {
    "name": "ipython",
    "version": 3
   },
   "file_extension": ".py",
   "mimetype": "text/x-python",
   "name": "python",
   "nbconvert_exporter": "python",
   "pygments_lexer": "ipython3",
   "version": "3.7.9"
  }
 },
 "nbformat": 4,
 "nbformat_minor": 5
}
